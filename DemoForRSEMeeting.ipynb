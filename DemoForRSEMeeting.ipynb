{
 "cells": [
  {
   "cell_type": "markdown",
   "id": "53a380a7-18f7-4f54-95ab-200ef63590c9",
   "metadata": {},
   "source": [
    "<img alt=\"boost-histogram logo\" src=\"images/BoostHistogramPythonLogo.png\" style=\"width:40%;\"></img>\n",
    "\n",
    "# Python Histogramming\n",
    "\n",
    "### Henry Schreiner\n",
    "\n",
    "Setup (done for you on binder):\n",
    "\n",
    "```bash\n",
    "conda env create\n",
    "conda activate bh-talk\n",
    "jupyter lab\n",
    "```\n",
    "\n",
    "The interesting parts of the environment:"
   ]
  },
  {
   "cell_type": "code",
   "execution_count": null,
   "id": "8e558549-dba0-464a-b113-758e889085f3",
   "metadata": {},
   "outputs": [],
   "source": [
    "from importlib import metadata\n",
    "packages = \"boost-histogram hist uhi mplhep histoprint\".split()\n",
    "for package in packages:\n",
    "    meta = metadata.metadata(package)\n",
    "    print(f\"{package:16} {meta['version']}   {meta['Summary']}\")"
   ]
  },
  {
   "cell_type": "markdown",
   "id": "10454950-0603-4f6a-928b-10544caf7d53",
   "metadata": {},
   "source": [
    "> #### Note:\n",
    ">\n",
    "> boost-histogram and the core Hist functionality has minimal, lightweight requirements and works almost anywhere. Anything beyond that is for plotting or other speical functionality."
   ]
  },
  {
   "cell_type": "code",
   "execution_count": null,
   "id": "8fd620a0-4929-49b5-9fec-8f2a00417b8f",
   "metadata": {},
   "outputs": [],
   "source": [
    "import hist\n",
    "from hist import Hist\n",
    "import numpy as np\n",
    "import matplotlib.pyplot as plt\n",
    "import mplhep\n",
    "from PIL import Image\n",
    "import pandas as pd"
   ]
  },
  {
   "cell_type": "markdown",
   "id": "4c825041-475d-4a5c-b005-23659d07c7ef",
   "metadata": {},
   "source": [
    "> #### IPython setup\n",
    "> \n",
    "> For the demos, let's see the last expression so it's easier to follow what's happening, even if it is an assignment. The default here is 'last_expr', but 'last_expr_or_assign' is better for demos. Also see 'last', 'all', and 'none'."
   ]
  },
  {
   "cell_type": "code",
   "execution_count": null,
   "id": "4c06758f-935c-48a2-937f-0b9c83d8653b",
   "metadata": {},
   "outputs": [],
   "source": [
    "%config InteractiveShell.ast_node_interactivity=\"last_expr_or_assign\""
   ]
  },
  {
   "cell_type": "markdown",
   "id": "4355f030-ccf0-498f-8ffc-8939ce8716d8",
   "metadata": {},
   "source": [
    "\n",
    "# What is boost-histogram / Hist?\n",
    "\n",
    "The Python ecosystem is missing a good Histogram object. NumPy can perform a histogram operation, but it does not produce an object, and there are limitations and performance issues. The closest thing we have to a histogram is in ROOT, a massive HEP C++ framework with JIT bindings.\n",
    "\n",
    "We have introduced:\n",
    "\n",
    "* boost-histogram: High performance composable histograms using Boost.Histogram (header-only Boost library)\n",
    "* hist: Extends boost-histogram with new features and shortcuts, REPL/analysis friendly\n",
    "* UHI: Unified Histogram Interface, describes Protocol and common features\n",
    "\n",
    "Our other libraries (`uproot`, for reading ROOT files without ROOT, `mplhep` for plottingh, `histoprint` for printing) use the UHI Protocol to communicate histograms."
   ]
  },
  {
   "cell_type": "markdown",
   "id": "8237255b-4f88-4329-a581-46a107bbea69",
   "metadata": {},
   "source": [
    "# Performance example"
   ]
  },
  {
   "cell_type": "code",
   "execution_count": null,
   "id": "3da448ca-3d6b-425c-a72b-c68ba7e65b2a",
   "metadata": {},
   "outputs": [],
   "source": [
    "# Data\n",
    "data1 = np.random.normal(3.5, 2.5, size=1_000_000)"
   ]
  },
  {
   "cell_type": "code",
   "execution_count": null,
   "id": "c45730df-8ae0-4306-b9b7-1a62e5a2623a",
   "metadata": {},
   "outputs": [],
   "source": [
    "%%timeit\n",
    "H, e = np.histogram(data1, bins=100, range=(0,5))"
   ]
  },
  {
   "cell_type": "code",
   "execution_count": null,
   "id": "6c968fdf-dd56-4fbe-a7bc-fac1b044111b",
   "metadata": {
    "tags": []
   },
   "outputs": [],
   "source": [
    "%%timeit\n",
    "H, e = hist.numpy.histogram(data1, bins=100, range=(0,5))"
   ]
  },
  {
   "cell_type": "markdown",
   "id": "b55b45c8-f95b-48de-b8f6-6c6bc0a4c456",
   "metadata": {},
   "source": [
    "This is a little unfair - this is \"normal\" boost-histogrma against an optimized NumPy routine. Let's try an unoptimized one:"
   ]
  },
  {
   "cell_type": "code",
   "execution_count": null,
   "id": "0c6f06c0-4aa1-44fb-8b82-7ff88975119a",
   "metadata": {},
   "outputs": [],
   "source": [
    "# Second dimension of data\n",
    "data2 = np.random.normal(3.5, 2.5, size=1_000_000)"
   ]
  },
  {
   "cell_type": "code",
   "execution_count": null,
   "id": "d8b39911-8f9d-4d63-a0f4-ac165cd747d9",
   "metadata": {},
   "outputs": [],
   "source": [
    "%%timeit\n",
    "H, e1, e2 = np.histogram2d(data1, data2, bins=(100, 100), range=((0,5), (0, 5)))"
   ]
  },
  {
   "cell_type": "code",
   "execution_count": null,
   "id": "1f5064f8-6274-44e8-b08e-bc729600614d",
   "metadata": {
    "tags": []
   },
   "outputs": [],
   "source": [
    "%%timeit\n",
    "H, e1, e2 = hist.numpy.histogram2d(data1, data2, bins=(100, 100), range=((0,5), (0, 5)))"
   ]
  },
  {
   "cell_type": "code",
   "execution_count": null,
   "id": "8b533f47-1a13-4a75-b05d-814e81fd09db",
   "metadata": {
    "jupyter": {
     "source_hidden": true
    },
    "tags": []
   },
   "outputs": [],
   "source": [
    "%%timeit\n",
    "H, e1, e2 = hist.numpy.histogram2d(data1, data2, bins=(100, 100), range=((0,5), (0, 5)), threads=4)"
   ]
  },
  {
   "cell_type": "markdown",
   "id": "1010c305-4177-4425-838b-d663c329e3cd",
   "metadata": {},
   "source": [
    "# Manipulation example"
   ]
  },
  {
   "cell_type": "code",
   "execution_count": null,
   "id": "3fac87a5-e0f1-4b85-b76f-01b953bd6c7a",
   "metadata": {},
   "outputs": [],
   "source": [
    "sp = Image.open(\"SciPy Icon.png\")"
   ]
  },
  {
   "cell_type": "code",
   "execution_count": null,
   "id": "e74403e8-bf7f-4eff-b1e4-7c33d710b56d",
   "metadata": {},
   "outputs": [],
   "source": [
    "arr = np.asarray(sp)[:, :, 3]\n",
    "x, y, p = np.random.default_rng().random((3, 200_000))\n",
    "bx = (x * 140).astype(np.int32)\n",
    "by = (y * 120).astype(np.int32)\n",
    "\n",
    "# Probibility of hit\n",
    "prob = arr[by, bx] / 255\n",
    "\n",
    "# True if hit\n",
    "hits = prob > p\n",
    "\n",
    "# Make lists of x and y values\n",
    "X = x[hits]\n",
    "Y = 1 - (y[hits] / 14 * 12 + (1 / 14));"
   ]
  },
  {
   "cell_type": "code",
   "execution_count": null,
   "id": "e154a67c-9e5e-481e-b84a-080f4c3bdb21",
   "metadata": {},
   "outputs": [],
   "source": [
    "h = Hist(\n",
    "    hist.axis.Regular(300, 0, 1, name=\"x\"),\n",
    "    hist.axis.Regular(300, 0, 1, name=\"y\"),\n",
    ")\n",
    "\n",
    "h.fill(x=X, y=Y);"
   ]
  },
  {
   "cell_type": "code",
   "execution_count": null,
   "id": "98b00cc7-b441-4df5-ad4f-145568921eee",
   "metadata": {},
   "outputs": [],
   "source": [
    "h.plot()\n",
    "plt.gca().set_aspect(\"equal\")"
   ]
  },
  {
   "cell_type": "code",
   "execution_count": null,
   "id": "eb2d0212-bc11-4b8c-bded-ac03192c4208",
   "metadata": {},
   "outputs": [],
   "source": [
    "h[.8j:, .6j:.75j].plot()\n",
    "plt.gca().set_aspect(\"equal\")"
   ]
  },
  {
   "cell_type": "code",
   "execution_count": null,
   "id": "70cf125b-ebac-44e7-bc4d-1cff7f7830a1",
   "metadata": {},
   "outputs": [],
   "source": [
    "hx = h.project(\"x\")"
   ]
  },
  {
   "cell_type": "code",
   "execution_count": null,
   "id": "9c67c87b-9b63-4d5c-8a21-9213a47510f5",
   "metadata": {},
   "outputs": [],
   "source": [
    "plt.stairs(hx.values(), *hx.axes.edges)"
   ]
  },
  {
   "cell_type": "markdown",
   "id": "7d8377fe-6e75-49d2-8e61-ceabc04a172b",
   "metadata": {},
   "source": [
    "# Profile example"
   ]
  },
  {
   "cell_type": "code",
   "execution_count": null,
   "id": "a2592a32-9b3f-4f07-b429-511356f54ca5",
   "metadata": {},
   "outputs": [],
   "source": [
    "data = np.vstack(\n",
    "    [\n",
    "        np.concatenate(\n",
    "            [\n",
    "                np.random.normal(-0.75, 0.3, 1_000_000),\n",
    "                np.random.normal(0.75, 0.3, 750_000),\n",
    "                np.random.normal(-1.5, 0.4, 400_000),\n",
    "            ]\n",
    "        ),\n",
    "        np.concatenate(\n",
    "            [\n",
    "                np.random.normal(-0.75, 0.8, 1_000_000),\n",
    "                np.random.normal(0.75, 0.5, 750_000),\n",
    "                np.random.normal(-1.5, 0.1, 400_000),\n",
    "            ]\n",
    "        ),\n",
    "    ]\n",
    ");"
   ]
  },
  {
   "cell_type": "code",
   "execution_count": null,
   "id": "7c93bb2d-8378-42a7-baab-9a7e492f6eda",
   "metadata": {},
   "outputs": [],
   "source": [
    "h = Hist.new.Reg(100, -3.5, 3.5).Reg(100, -3.5, 3.5).Weight().fill(*data)\n",
    "h.plot()"
   ]
  },
  {
   "cell_type": "code",
   "execution_count": null,
   "id": "5b3ba390-4f72-4e04-9d5d-29285edf510f",
   "metadata": {},
   "outputs": [],
   "source": [
    "# from matplotlib.colors import LogNorm\n",
    "fig, ax = plt.subplots(figsize=(8,8))\n",
    "py = h.profile(1)\n",
    "h.plot(ax=ax) # , norm=LogNorm(vmin=1, vmax=10_000))\n",
    "ax.errorbar(*py.axes.centers, py.values(), py.variances()**.5, fmt='r.')\n",
    "ax.set_aspect(\"equal\")"
   ]
  },
  {
   "cell_type": "markdown",
   "id": "edc5ba89-faea-497f-8a7b-8a5b8551305d",
   "metadata": {},
   "source": [
    "# Pie plotting example\n",
    "\n",
    "Also see\n",
    "https://github.com/pypa/manylinux/issues/994#issuecomment-792210874\n",
    "\n",
    "In this exmaple, we will read in a pandas example dataset from seaborn-data."
   ]
  },
  {
   "cell_type": "code",
   "execution_count": null,
   "id": "2872cc2f-ba5b-4edb-89df-f5b562be8a0b",
   "metadata": {},
   "outputs": [],
   "source": [
    "tips = pd.read_csv('https://raw.githubusercontent.com/mwaskom/seaborn-data/master/tips.csv')"
   ]
  },
  {
   "cell_type": "code",
   "execution_count": null,
   "id": "395ff986-5114-4281-88b0-a02ea7437585",
   "metadata": {},
   "outputs": [],
   "source": [
    "tips.describe()"
   ]
  },
  {
   "cell_type": "markdown",
   "id": "e189c7e8-d56f-40d5-ba46-499dd0887f28",
   "metadata": {},
   "source": [
    "#### Hist can read from columnar datasets"
   ]
  },
  {
   "cell_type": "code",
   "execution_count": null,
   "id": "153b9c7b-8aec-4788-98fa-09894eae1500",
   "metadata": {},
   "outputs": [],
   "source": [
    "h = Hist.from_columns(\n",
    "    tips,\n",
    "    [\n",
    "        hist.axis.Regular(10, 0, 50, name=\"total_bill\"),\n",
    "        hist.axis.Regular(20, 1, 10, name=\"tip\"),\n",
    "        \"day\",\n",
    "        \"size\",\n",
    "    ],\n",
    ")\n"
   ]
  },
  {
   "cell_type": "markdown",
   "id": "f02a90fc-4793-4122-812a-92c8e48be817",
   "metadata": {},
   "source": [
    "#### Let's see the total bill distribution"
   ]
  },
  {
   "cell_type": "code",
   "execution_count": null,
   "id": "f437e177-3e5f-4e45-a1ff-a699bb3d9dcb",
   "metadata": {},
   "outputs": [],
   "source": [
    "h.project(\"total_bill\")"
   ]
  },
  {
   "cell_type": "markdown",
   "id": "a1b522e9-277d-4713-b7ba-8955c6045ff3",
   "metadata": {},
   "source": [
    "#### How about tips vs. bills?"
   ]
  },
  {
   "cell_type": "code",
   "execution_count": null,
   "id": "4f31f88b-411a-4c4a-8b9f-728dd7273e13",
   "metadata": {},
   "outputs": [],
   "source": [
    "htt = h.project(\"total_bill\", \"tip\").plot2d_full();"
   ]
  },
  {
   "cell_type": "markdown",
   "id": "169591ed-1263-4a97-b445-a55b4920eeda",
   "metadata": {},
   "source": [
    "#### How about computing the mean over tips at each point? (profile)"
   ]
  },
  {
   "cell_type": "code",
   "execution_count": null,
   "id": "5edd0f95-b08a-4080-82e2-e53b8960b522",
   "metadata": {},
   "outputs": [],
   "source": [
    "tip = htt.profile(\"tip\")\n",
    "htt.plot()\n",
    "plt.errorbar(*tip.axes.centers, tip.values(), tip.variances()**.5, fmt='r.');"
   ]
  },
  {
   "cell_type": "markdown",
   "id": "ffa1d250-6541-4a1e-a565-03d915e78ecc",
   "metadata": {},
   "source": [
    "#### What about splitting it by day?"
   ]
  },
  {
   "cell_type": "code",
   "execution_count": null,
   "id": "c8ba686e-03e9-4201-88ff-365929c68364",
   "metadata": {},
   "outputs": [],
   "source": [
    "h.project(\"total_bill\", \"day\").plot()\n",
    "plt.legend();"
   ]
  },
  {
   "cell_type": "markdown",
   "id": "9a435e41-3efc-4fcf-ad42-738889f28fc4",
   "metadata": {},
   "source": [
    "#### How about total bill on Saterday only?"
   ]
  },
  {
   "cell_type": "code",
   "execution_count": null,
   "id": "6234ddda-4122-4424-a8ad-475e8e6fffef",
   "metadata": {},
   "outputs": [],
   "source": [
    "h[:, sum, \"Sat\", sum]"
   ]
  },
  {
   "cell_type": "markdown",
   "id": "e3e1e78f-5a90-429a-9fff-960e884c2418",
   "metadata": {},
   "source": [
    "#### Finally, how about seeing the distribution per day?"
   ]
  },
  {
   "cell_type": "code",
   "execution_count": null,
   "id": "40a73f07-3fc8-449b-8ed1-932966df2641",
   "metadata": {},
   "outputs": [],
   "source": [
    "h.project(\"day\").plot_pie(normalize=True, autopct='%1.0f%%', pctdistance=.8);"
   ]
  },
  {
   "cell_type": "code",
   "execution_count": null,
   "id": "ce0ba060-416f-4d67-bf0f-97dd6e536dea",
   "metadata": {},
   "outputs": [],
   "source": []
  }
 ],
 "metadata": {
  "kernelspec": {
   "display_name": "boost-hist",
   "language": "python",
   "name": "boost-hist"
  },
  "language_info": {
   "codemirror_mode": {
    "name": "ipython",
    "version": 3
   },
   "file_extension": ".py",
   "mimetype": "text/x-python",
   "name": "python",
   "nbconvert_exporter": "python",
   "pygments_lexer": "ipython3",
   "version": "3.9.2"
  }
 },
 "nbformat": 4,
 "nbformat_minor": 5
}
