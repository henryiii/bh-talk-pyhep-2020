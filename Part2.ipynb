{
 "cells": [
  {
   "cell_type": "code",
   "execution_count": 2,
   "metadata": {},
   "outputs": [],
   "source": [
    "import boost_histogram as bh\n",
    "import numpy as np\n",
    "import matplotlib.pyplot as plt"
   ]
  },
  {
   "cell_type": "markdown",
   "metadata": {},
   "source": [
    "## 5: Generalized histograms and Accumulators\n",
    "\n",
    "Boost-Histogram offers more than ordinary histograms, it is a generalized histogram library that supports many so-called binned statistics.\n",
    "\n",
    "These binned statistics are represented by accumulators. These are classes that accept samples and compute something from them. For example, the arithmetic mean:"
   ]
  },
  {
   "cell_type": "code",
   "execution_count": 3,
   "metadata": {},
   "outputs": [
    {
     "data": {
      "text/plain": [
       "Mean(count=3, value=0.4, variance=0.01)"
      ]
     },
     "execution_count": 3,
     "metadata": {},
     "output_type": "execute_result"
    }
   ],
   "source": [
    "mean = bh.accumulators.Mean()\n",
    "mean.fill([.3, .4, .5])"
   ]
  },
  {
   "cell_type": "markdown",
   "metadata": {},
   "source": [
    "Interesting properties of the accumulator can be accessed as attributes."
   ]
  },
  {
   "cell_type": "code",
   "execution_count": 5,
   "metadata": {},
   "outputs": [
    {
     "name": "stdout",
     "output_type": "stream",
     "text": [
      "mean.count=3.0 mean.value=0.4 mean.variance=0.01\n"
     ]
    }
   ],
   "source": [
    "print(f\"mean.count={mean.count} mean.value={mean.value:g} mean.variance={mean.variance:g}\")\n",
    "\n",
    "# Python 3.8:\n",
    "# print(f\"{mean.count=} {mean.value=} {mean.variance=}\")"
   ]
  },
  {
   "cell_type": "markdown",
   "metadata": {},
   "source": [
    "Here are the other currently supported accumulators. The list is growing and more suggestions from users are welcome!"
   ]
  },
  {
   "cell_type": "code",
   "execution_count": 8,
   "metadata": {
    "scrolled": true
   },
   "outputs": [
    {
     "data": {
      "text/plain": [
       "['Mean', 'Sum', 'WeightedMean', 'WeightedSum']"
      ]
     },
     "execution_count": 8,
     "metadata": {},
     "output_type": "execute_result"
    }
   ],
   "source": [
    "[x for x in dir(bh.accumulators) if not x.startswith(\"__\")]"
   ]
  },
  {
   "cell_type": "markdown",
   "metadata": {},
   "source": [
    "Accumulator | Description | Attributes\n",
    "----------- | :----------- | :-----------\n",
    "Mean        | Computes the arithematic mean of samples | count, value, variance\n",
    "WeightedMean | Computes the mean of weighted samples | sum_of_weights, sum_of_weights_squared, value, variance\n",
    "Sum         | Computes sum of real weights more accurately | value\n",
    "WeightedSum | Like Sum, but also keeps track of weight variance | value, variance\n",
    "\n",
    "Most of these should be pretty clear, but let's talk a bit about computing sums on a computer."
   ]
  },
  {
   "cell_type": "markdown",
   "metadata": {},
   "source": [
    "### Spotlight: the Sum accumulator\n",
    "\n",
    "Why we have a special accumulator for computing sums is best demonstrated in action."
   ]
  },
  {
   "cell_type": "code",
   "execution_count": 23,
   "metadata": {},
   "outputs": [
    {
     "name": "stdout",
     "output_type": "stream",
     "text": [
      "np.sum             : 0.0\n",
      "bh.accumulators.Sum: 1.0\n"
     ]
    }
   ],
   "source": [
    "# summing floats that differ a lot in magnitude leads to roundoff errors\n",
    "values = [1e100, 1, -1e100]\n",
    "\n",
    "print(f\"np.sum             : {np.sum(values)}\") \n",
    "\n",
    "# Sum accumulator keeps track of these round-off errors\n",
    "s = bh.accumulators.Sum()\n",
    "s.fill(values)\n",
    "print(f\"bh.accumulators.Sum: {s.value}\")"
   ]
  },
  {
   "cell_type": "markdown",
   "metadata": {},
   "source": [
    "The Sum accumulator produces the correct result, while `np.sum` does not. This is not a failure of `np.sum`, it is just how arithmetic with floating point numbers on a computer work."
   ]
  },
  {
   "cell_type": "code",
   "execution_count": 24,
   "metadata": {},
   "outputs": [
    {
     "data": {
      "text/plain": [
       "True"
      ]
     },
     "execution_count": 24,
     "metadata": {},
     "output_type": "execute_result"
    }
   ],
   "source": [
    "1e16 + 1 == 1e16"
   ]
  },
  {
   "cell_type": "markdown",
   "metadata": {},
   "source": [
    "The Sum accumulator uses a special algorithm (the [Kahan-Babuška-Neumeier algorithm](https://en.wikipedia.org/wiki/Kahan_summation_algorithm)) to compensate for this loss in precision at the cost of doing 4x as many computations and using 2x as much memory compared to ordinary summation. Because of the performance penalty, it is not used by default.\n",
    "\n",
    "As a general rule, in Boost-Histogram we give you **choices and reasonable defaults** . If you need extra accuracy, use `Sum`. By default, you get normal summation, which is less precise but more performant."
   ]
  },
  {
   "cell_type": "markdown",
   "metadata": {},
   "source": [
    "## 6: Changing the storage\n",
    "\n",
    "While you can import and use these accumulators directly, the intended use of them is in your *histogram storage*. The storage of a histogram holds its accumulators, one per cell.\n",
    "\n",
    "Remark about language:\n",
    "* Bin: refers to a thing pointed to by a single axis (an interval for a continuous axis)\n",
    "* Cell: refers to a thing in the histogram, which is addressed by all bins taken together)\n",
    "\n",
    "![](histogram_layout.svg)"
   ]
  },
  {
   "cell_type": "code",
   "execution_count": null,
   "metadata": {},
   "outputs": [],
   "source": [
    "hist6 = bh.Histogram(bh.axis.Regular(10, 0, 10), storage=bh.storage.Mean())"
   ]
  },
  {
   "cell_type": "code",
   "execution_count": null,
   "metadata": {},
   "outputs": [],
   "source": [
    "hist6.fill([0.5]*3, sample=[.3, .4, .5])"
   ]
  },
  {
   "cell_type": "code",
   "execution_count": null,
   "metadata": {},
   "outputs": [],
   "source": [
    "hist6[0]"
   ]
  },
  {
   "cell_type": "code",
   "execution_count": null,
   "metadata": {},
   "outputs": [],
   "source": [
    "hist6.view()"
   ]
  },
  {
   "cell_type": "code",
   "execution_count": null,
   "metadata": {},
   "outputs": [],
   "source": [
    "hist6.view().value"
   ]
  },
  {
   "cell_type": "code",
   "execution_count": null,
   "metadata": {},
   "outputs": [],
   "source": [
    "hist6.view().variance"
   ]
  },
  {
   "cell_type": "markdown",
   "metadata": {},
   "source": [
    "## 7: Making a density histogram"
   ]
  },
  {
   "cell_type": "markdown",
   "metadata": {},
   "source": [
    "Let's try to make a density histogram like Numpy's."
   ]
  },
  {
   "cell_type": "code",
   "execution_count": null,
   "metadata": {},
   "outputs": [],
   "source": [
    "bins = [-10, -7, -4, -3, -2, -1, -.75, -.5, -.25, 0, .25, .5, .75, 1, 2, 3, 4, 7, 10]\n",
    "d7, e7 = np.histogram(data1 - 3.5, bins=bins, density=True)\n",
    "plt.hist(data1 - 3.5, bins=bins, density=True);"
   ]
  },
  {
   "cell_type": "markdown",
   "metadata": {},
   "source": [
    "Yes, it's ugly. Don't judge.\n",
    "\n",
    "We don't have a `.density`! What do we do? (note: `density=True` is supported if you do not return a bh object)"
   ]
  },
  {
   "cell_type": "code",
   "execution_count": null,
   "metadata": {},
   "outputs": [],
   "source": [
    "hist7 = bh.numpy.histogram(data1 - 3.5, bins=bins, histogram=bh.Histogram)\n",
    "\n",
    "widths = hist7.axes.widths\n",
    "area = np.prod(widths, axis=0)\n",
    "\n",
    "area"
   ]
  },
  {
   "cell_type": "markdown",
   "metadata": {},
   "source": [
    "Yes, that does not need to be so complicated for 1D, but it's general."
   ]
  },
  {
   "cell_type": "code",
   "execution_count": null,
   "metadata": {},
   "outputs": [],
   "source": [
    "factor = np.sum(hist7.view())\n",
    "view = hist7.view() / (factor * area)"
   ]
  },
  {
   "cell_type": "code",
   "execution_count": null,
   "metadata": {},
   "outputs": [],
   "source": [
    "plt.bar(hist7.axes[0].centers, view, width=hist7.axes[0].widths);"
   ]
  },
  {
   "cell_type": "markdown",
   "metadata": {},
   "source": [
    "## 8: Axis types\n",
    "\n",
    "There are more axes types, and they all provide the same API in histograms, so they all just work without changes:"
   ]
  },
  {
   "cell_type": "code",
   "execution_count": null,
   "metadata": {},
   "outputs": [],
   "source": [
    "hist8 = bh.Histogram(\n",
    "    bh.axis.Regular(30, 1, 10, transform=bh.axis.transform.log),\n",
    "    bh.axis.Regular(30, 1, 10, transform=bh.axis.transform.sqrt)\n",
    ")"
   ]
  },
  {
   "cell_type": "code",
   "execution_count": null,
   "metadata": {},
   "outputs": [],
   "source": [
    "hist8.reset()\n",
    "hist8.fill(*make_2D_data(mean=(5, 5), widths=(5, 5)))"
   ]
  },
  {
   "cell_type": "code",
   "execution_count": null,
   "metadata": {},
   "outputs": [],
   "source": [
    "plothist2d(hist8);"
   ]
  },
  {
   "cell_type": "markdown",
   "metadata": {},
   "source": [
    "## 9: And, circular, too!"
   ]
  },
  {
   "cell_type": "code",
   "execution_count": null,
   "metadata": {},
   "outputs": [],
   "source": [
    "hist9 = bh.Histogram(bh.axis.Regular(30, 0, 2*np.pi, circular=True))\n",
    "hist9.fill(np.random.uniform(0, np.pi*4, size=300))"
   ]
  },
  {
   "cell_type": "markdown",
   "metadata": {},
   "source": [
    "Now, the really complicated part, making a circular histogram:\n"
   ]
  },
  {
   "cell_type": "code",
   "execution_count": null,
   "metadata": {},
   "outputs": [],
   "source": [
    "ax = plt.subplot(111, polar=True)\n",
    "plothist(hist9);"
   ]
  }
 ],
 "metadata": {
  "kernelspec": {
   "display_name": "Python 3",
   "language": "python",
   "name": "python3"
  },
  "language_info": {
   "codemirror_mode": {
    "name": "ipython",
    "version": 3
   },
   "file_extension": ".py",
   "mimetype": "text/x-python",
   "name": "python",
   "nbconvert_exporter": "python",
   "pygments_lexer": "ipython3",
   "version": "3.8.3"
  }
 },
 "nbformat": 4,
 "nbformat_minor": 4
}
