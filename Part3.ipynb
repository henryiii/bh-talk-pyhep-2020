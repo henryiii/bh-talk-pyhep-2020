{
 "cells": [
  {
   "cell_type": "code",
   "execution_count": null,
   "metadata": {},
   "outputs": [],
   "source": [
    "%config InteractiveShell.ast_node_interactivity=\"last_expr_or_assign\"\n",
    "\n",
    "import hist\n",
    "from hist import Hist\n",
    "import numpy as np\n",
    "import mplhep\n",
    "from PIL import Image\n",
    "import matplotlib.pyplot as plt"
   ]
  },
  {
   "cell_type": "markdown",
   "metadata": {},
   "source": [
    "# Hist: The analyst's friend\n",
    "\n",
    "The boost-histogram library should be viewed like NumPy; a power, fundamental library for supporting histograms. However, it has no dependencies and is designed to be exact. It is meant to be usable as a backend for other histogramming libraries.\n",
    "\n",
    "Like Pandas provides a nice interface to NumPy that adds columns, plotting adapters, and more, we have Hist; the analyst friendly frontend to boost-histogram.\n",
    "\n",
    "| boost-histogram      | Hist                        |\n",
    "|----------------------|-----------------------------|\n",
    "| No dependencies      | Dependencies allowed        |\n",
    "| Verbose but clear    | Can reduce typing           |\n",
    "| First principles     | Wrappers for common needs   |\n",
    "| Interfaces with NumPy | Interface with other tools |\n",
    "\n",
    "If a feature doesn't add dependencies and is useful/popular, it *may* be upstreamed to boost-histogram. Let us know what you like!\n",
    "\n",
    "Hist currently provides 4 things that boost-histogram doesn't have.\n",
    "\n",
    "Names, UHI+, Plotting, Quick Constructors"
   ]
  },
  {
   "cell_type": "markdown",
   "metadata": {},
   "source": [
    "---\n",
    "\n",
    "# 1: Meaning to metadata: titles and names\n",
    "\n",
    "Axis in Hist can have a `name` and a `label`. The name is special; it needs to be unique to a Histogram (but not across histograms), and is completely optional - you can even mix named and unnamed axes. \n",
    "\n",
    "A `name` can be used to identify an axis anywhere a number can be used!"
   ]
  },
  {
   "cell_type": "code",
   "execution_count": null,
   "metadata": {},
   "outputs": [],
   "source": [
    "h = Hist(\n",
    "    hist.axis.Regular(10, -1, 1, name=\"x\"), hist.axis.Regular(20, -2, 2, name=\"y\"),\n",
    ")"
   ]
  },
  {
   "cell_type": "code",
   "execution_count": null,
   "metadata": {},
   "outputs": [],
   "source": [
    "h.fill(x=np.random.normal(size=1_000_000), y=np.random.normal(size=1_000_000))"
   ]
  },
  {
   "cell_type": "code",
   "execution_count": null,
   "metadata": {},
   "outputs": [],
   "source": [
    "mplhep.histplot(h.project(\"y\"));"
   ]
  },
  {
   "cell_type": "code",
   "execution_count": null,
   "metadata": {},
   "outputs": [],
   "source": [
    "h[{\"x\": sum, \"y\": sum}]"
   ]
  },
  {
   "cell_type": "markdown",
   "metadata": {},
   "source": [
    "A `title` will override the name when plotting; but if unset, the name will be used in plotting."
   ]
  },
  {
   "cell_type": "code",
   "execution_count": null,
   "metadata": {},
   "outputs": [],
   "source": [
    "h.axes[\"x\"].title = \"x [μm]\"\n",
    "h.axes[\"y\"].title = \"y [cm]\"\n",
    "mplhep.hist2dplot(h);"
   ]
  },
  {
   "cell_type": "markdown",
   "metadata": {},
   "source": [
    "> Note to self: name probably should not be changable once an axes is created..."
   ]
  },
  {
   "cell_type": "markdown",
   "metadata": {},
   "source": [
    "If you love names, there's even an experimental `NamedHist` that enforces *only* named access - you can't use normal positional access on a `NamedHist`."
   ]
  },
  {
   "cell_type": "markdown",
   "metadata": {},
   "source": [
    "---\n",
    "\n",
    "# 2: UHI+\n",
    "\n",
    "Hist supports an experimental UHI addition that allows for ultra-terse UHI. You can perform all manipulations directly inline without extra imports.\n",
    "\n",
    "Rules:\n",
    "\n",
    "Single bin or slice endpoints:\n",
    "* `3` -> bin coordinate 3 (like NumPy/boost-histogram)\n",
    "* `1.5j` -> data coordinate 1.5 (`bh.loc(1.5)`)\n",
    "* `\"string\"` -> String category (`bh.loc(\"string\")`)\n",
    "\n",
    "Action slot:\n",
    "* `2j` -> rebin by 2 over axis or range (`bh.rebin(2)`)\n",
    "* `sum` -> Sum over axis or range (like boost-histogram)\n",
    "\n",
    "For example, let's make something mildly interesting:"
   ]
  },
  {
   "cell_type": "code",
   "execution_count": null,
   "metadata": {},
   "outputs": [],
   "source": [
    "sp = Image.open(\"SciPy Icon.png\")"
   ]
  },
  {
   "cell_type": "code",
   "execution_count": null,
   "metadata": {},
   "outputs": [],
   "source": [
    "arr = np.asarray(sp)[:, :, 3]\n",
    "x, y, p = np.random.default_rng().random((3, 200_000))\n",
    "\n",
    "bx = (x * 140).astype(np.int32)\n",
    "by = (y * 120).astype(np.int32)\n",
    "\n",
    "# Probibility of hit\n",
    "prob = arr[by, bx] / 255\n",
    "\n",
    "# True if hit\n",
    "hits = prob > p\n",
    "\n",
    "# Select just hits that are in the blue parts\n",
    "X = x[hits]\n",
    "Y = 1 - (y[hits] / 14 * 12 + (1 / 14));"
   ]
  },
  {
   "cell_type": "markdown",
   "metadata": {},
   "source": [
    "Make a histogram:"
   ]
  },
  {
   "cell_type": "code",
   "execution_count": null,
   "metadata": {},
   "outputs": [],
   "source": [
    "sci = Hist(\n",
    "    hist.axis.Regular(300, 0, 1, name=\"x\", title=\"x [cm]\"),\n",
    "    hist.axis.Regular(300, 0, 1, name=\"y\", title=\"y [cm]\"),\n",
    ")\n",
    "\n",
    "sci.fill(X, Y)"
   ]
  },
  {
   "cell_type": "code",
   "execution_count": null,
   "metadata": {},
   "outputs": [],
   "source": [
    "sci.plot();"
   ]
  },
  {
   "cell_type": "code",
   "execution_count": null,
   "metadata": {},
   "outputs": [],
   "source": [
    "sci[0.7j:, 0.5j:0.8j].plot();"
   ]
  },
  {
   "cell_type": "code",
   "execution_count": null,
   "metadata": {},
   "outputs": [],
   "source": [
    "sci[::4j, ::4j].plot();"
   ]
  },
  {
   "cell_type": "code",
   "execution_count": null,
   "metadata": {},
   "outputs": [],
   "source": [
    "h = Hist(hist.axis.StrCategory([\"a\", \"b\", \"c\"]))\n",
    "h.fill([\"a\", \"a\", \"a\", \"b\", \"b\", \"c\"])"
   ]
  },
  {
   "cell_type": "code",
   "execution_count": null,
   "metadata": {},
   "outputs": [],
   "source": [
    "h[\"a\"]"
   ]
  },
  {
   "cell_type": "code",
   "execution_count": null,
   "metadata": {},
   "outputs": [],
   "source": [
    "h[\"a\":\"c\"]"
   ]
  },
  {
   "cell_type": "markdown",
   "metadata": {},
   "source": [
    "---\n",
    "\n",
    "# 3: Quick plotting\n",
    "\n",
    "You can directly make several useful plots in hist using matplotlib, inline using pandas-like `.plot()` interface."
   ]
  },
  {
   "cell_type": "code",
   "execution_count": null,
   "metadata": {},
   "outputs": [],
   "source": [
    "sci.plot();"
   ]
  },
  {
   "cell_type": "code",
   "execution_count": null,
   "metadata": {},
   "outputs": [],
   "source": [
    "sci.plot2d_full();"
   ]
  },
  {
   "cell_type": "code",
   "execution_count": null,
   "metadata": {},
   "outputs": [],
   "source": [
    "sci[0.1j:0.9j, sum].plot();"
   ]
  },
  {
   "cell_type": "markdown",
   "metadata": {},
   "source": [
    "I'm saving one more plot type for later!"
   ]
  },
  {
   "cell_type": "markdown",
   "metadata": {},
   "source": [
    "---\n",
    "\n",
    "# 4. Quick constructors\n",
    "\n",
    "We've avoided using the `hist` namespace, and just did everything with the `Hist` object itself, except construction. But Hist supports a **very experimental** quick construction system! It's even written in the same naming scheme as Hist:\n"
   ]
  },
  {
   "cell_type": "code",
   "execution_count": null,
   "metadata": {},
   "outputs": [],
   "source": [
    "rng = np.random.default_rng(1)\n",
    "x = rng.normal(size=10_000)\n",
    "y = rng.normal(size=10_000)\n",
    "\n",
    "Hist.Log(30, 0.1, 3).Sqrt(30, 0, 3).fill(x, y).plot();"
   ]
  },
  {
   "cell_type": "code",
   "execution_count": null,
   "metadata": {},
   "outputs": [],
   "source": [
    "nicely_organised = (\n",
    "    Hist.Reg(10, 0, 10, name=\"p_T\", title=\"$p_T$\")\n",
    "        .Reg(5, 0, 5, name=\"eta\", title=r\"$\\eta$\")\n",
    "        .Bool(name=\"sim\", title=\"is simulation\")\n",
    "        .Bool(name=\"cand\", title=\"is candidate\")\n",
    ")\n",
    "\n",
    "candidates_and_non_candidates = nicely_organised[{\"cand\": sum}]\n",
    "simulation_canidates = nicely_organised[{\"cand\": True, \"sim\": True}]"
   ]
  },
  {
   "cell_type": "code",
   "execution_count": null,
   "metadata": {},
   "outputs": [],
   "source": [
    "simulation_canidates.plot();"
   ]
  },
  {
   "cell_type": "markdown",
   "metadata": {},
   "source": [
    "---\n",
    "\n",
    "And remember, this is all backed by boost-histogram! We can go back and forth any time:"
   ]
  },
  {
   "cell_type": "code",
   "execution_count": null,
   "metadata": {},
   "outputs": [],
   "source": [
    "import boost_histogram as bh\n",
    "b_sim = bh.Histogram(simulation_canidates)"
   ]
  },
  {
   "cell_type": "code",
   "execution_count": null,
   "metadata": {},
   "outputs": [],
   "source": [
    "Hist(b_sim)"
   ]
  },
  {
   "cell_type": "markdown",
   "metadata": {},
   "source": [
    "---\n",
    "\n",
    "# Demo: all together now!"
   ]
  },
  {
   "cell_type": "code",
   "execution_count": null,
   "metadata": {},
   "outputs": [],
   "source": [
    "import uproot4\n",
    "from skhep_testdata import data_path"
   ]
  },
  {
   "cell_type": "code",
   "execution_count": null,
   "metadata": {},
   "outputs": [],
   "source": [
    "rfile = uproot4.open(data_path(\"uproot-hepdata-example.root\"))"
   ]
  },
  {
   "cell_type": "code",
   "execution_count": null,
   "metadata": {},
   "outputs": [],
   "source": [
    "h1 = rfile[\"hpx\"].to_hist()\n",
    "mplhep.histplot(h1) # try .to_boost, .to_hist"
   ]
  },
  {
   "cell_type": "code",
   "execution_count": null,
   "metadata": {},
   "outputs": [],
   "source": [
    "h1.plot();"
   ]
  },
  {
   "cell_type": "code",
   "execution_count": null,
   "metadata": {},
   "outputs": [],
   "source": [
    "from uncertainties import unumpy as unp\n",
    "\n",
    "\n",
    "def pdf(x, a=1 / np.sqrt(2 * np.pi), x0=0, sigma=1, offset=0):\n",
    "    exp = unp.exp if a.dtype == np.dtype(\"O\") else np.exp\n",
    "    return a * exp(-((x - x0) ** 2) / (2 * sigma ** 2)) + offset"
   ]
  },
  {
   "cell_type": "code",
   "execution_count": null,
   "metadata": {},
   "outputs": [],
   "source": [
    "h1.plot_pull(pdf);"
   ]
  },
  {
   "cell_type": "code",
   "execution_count": null,
   "metadata": {},
   "outputs": [],
   "source": [
    "h = rfile[\"hpxpy\"].to_hist()\n",
    "mplhep.hist2dplot(h);"
   ]
  },
  {
   "cell_type": "code",
   "execution_count": null,
   "metadata": {},
   "outputs": [],
   "source": [
    "h.plot();"
   ]
  },
  {
   "cell_type": "code",
   "execution_count": null,
   "metadata": {},
   "outputs": [],
   "source": [
    "h.plot2d_full();"
   ]
  },
  {
   "cell_type": "code",
   "execution_count": null,
   "metadata": {},
   "outputs": [],
   "source": [
    "h.project(\"xaxis\").plot();"
   ]
  }
 ],
 "metadata": {
  "kernelspec": {
   "display_name": "Python [conda env:bh-talk]",
   "language": "python",
   "name": "conda-env-bh-talk-py"
  },
  "language_info": {
   "codemirror_mode": {
    "name": "ipython",
    "version": 3
   },
   "file_extension": ".py",
   "mimetype": "text/x-python",
   "name": "python",
   "nbconvert_exporter": "python",
   "pygments_lexer": "ipython3",
   "version": "3.8.0"
  }
 },
 "nbformat": 4,
 "nbformat_minor": 4
}
